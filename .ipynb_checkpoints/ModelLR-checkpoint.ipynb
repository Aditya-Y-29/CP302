{
 "cells": [
  {
   "cell_type": "code",
   "execution_count": 1,
   "id": "c9094fd2",
   "metadata": {},
   "outputs": [],
   "source": [
    "import numpy as np\n",
    "import pandas as pd\n",
    "import matplotlib.pyplot as plt\n",
    "import seaborn as sns\n",
    "%matplotlib inline"
   ]
  },
  {
   "cell_type": "code",
   "execution_count": 2,
   "id": "5eaf50d7",
   "metadata": {},
   "outputs": [],
   "source": [
    "data1=pd.read_excel('Processed Data\\Intrinsic Data.xlsx', sheet_name=0, usecols=\"B:F\")\n",
    "data2=pd.read_excel('Concentrate Feed Modelling with FS\\Extrinsic Combined data.xlsx', sheet_name=0, usecols=\"B:P\")\n",
    "# data2.columns"
   ]
  },
  {
   "cell_type": "code",
   "execution_count": 3,
   "id": "1c3c4b92",
   "metadata": {},
   "outputs": [],
   "source": [
    "from sklearn.preprocessing import OneHotEncoder\n",
    "encoder=OneHotEncoder()\n",
    "\n",
    "encoded_data1=pd.DataFrame(encoder.fit_transform(data1[['Breed']]).toarray())\n",
    "# encoded_data\n",
    "encoded_data2=pd.DataFrame(encoder.fit_transform(data2[['Month','District','Zone','Green \\nFodder','Dry\\n Fodder']]).toarray())\n",
    "\n",
    "Y1_=data1['Milk Production Per \\nDay']\n",
    "data1=data1.drop(['Breed','Milk Production Per \\nDay'],axis=1)\n",
    "\n",
    "Y2_=data2['Farm Milk Production per \\nDay']\n",
    "data2=data2.drop(['Month','District','Zone','Green \\nFodder','Dry\\n Fodder','Farm Milk Production per \\nDay'],axis=1)\n",
    "\n",
    "data1=data1.join(encoded_data1)\n",
    "data1=data1.join(Y1_)\n",
    "\n",
    "data2=data2.join(encoded_data2)\n",
    "data2=data2.join(Y2_)\n"
   ]
  },
  {
   "cell_type": "code",
   "execution_count": 4,
   "id": "16ee08c3",
   "metadata": {},
   "outputs": [],
   "source": [
    "# sns.heatmap((data.drop(['Size of farm which cattle belongs'],axis=1)).corr())"
   ]
  },
  {
   "cell_type": "code",
   "execution_count": 5,
   "id": "dc537555",
   "metadata": {},
   "outputs": [],
   "source": [
    "data1=data1.to_numpy()\n",
    "X1=data1[:,0:-1]\n",
    "Y1=data1[:,-1]\n",
    "\n",
    "data2=data2.to_numpy()\n",
    "X2=data2[:,0:-1]\n",
    "Y2=data2[:,-1]"
   ]
  },
  {
   "cell_type": "code",
   "execution_count": 6,
   "id": "92a6205a",
   "metadata": {},
   "outputs": [
    {
     "data": {
      "text/plain": [
       "array([ 63.22014289, 141.52796133,  -3.26359962, ...,  62.72986999,\n",
       "        29.34805511,  19.06268047])"
      ]
     },
     "execution_count": 6,
     "metadata": {},
     "output_type": "execute_result"
    }
   ],
   "source": [
    "from sklearn.model_selection import train_test_split\n",
    "X1_train, X1_test, Y1_train, Y1_test = train_test_split(X1, Y1, test_size = 0.2, random_state = 0)\n",
    "X2_train, X2_test, Y2_train, Y2_test = train_test_split(X2, Y2, test_size = 0.2, random_state = 0)\n",
    "\n",
    "from sklearn.linear_model import LinearRegression\n",
    "regressor1 = LinearRegression()\n",
    "regressor2 = LinearRegression()\n",
    "regressor1.fit(X1_train, Y1_train)\n",
    "regressor2.fit(X2_train, Y2_train)\n",
    "\n",
    "y1_pred = regressor1.predict(X1_test)\n",
    "y2_pred = regressor2.predict(X2_test)\n",
    "y1_pred\n",
    "y2_pred\n"
   ]
  },
  {
   "cell_type": "code",
   "execution_count": 7,
   "id": "5bb0e265",
   "metadata": {},
   "outputs": [
    {
     "name": "stdout",
     "output_type": "stream",
     "text": [
      "6.613897880927661\n",
      "40.56137050403008\n"
     ]
    }
   ],
   "source": [
    "print(regressor1.intercept_)\n",
    "print(regressor2.intercept_)"
   ]
  },
  {
   "cell_type": "code",
   "execution_count": 8,
   "id": "40fc1102",
   "metadata": {},
   "outputs": [
    {
     "name": "stdout",
     "output_type": "stream",
     "text": [
      "[ 0.03370457 -0.20758087  0.58110768 -0.38124387  2.12820014  0.04267426\n",
      " -0.49341428 -1.27320609 -0.02301015]\n",
      "[ 2.87544930e-01 -9.59419121e-01 -7.31641924e+02 -7.31098021e+02\n",
      "  1.46554457e+03  1.70789911e-01 -4.78498446e-03 -1.57592650e+00\n",
      "  5.81528720e+00  2.66846946e+00 -8.31151201e+00  7.90479130e+00\n",
      "  6.48089088e+00  9.93236838e+00 -7.19979861e+00 -7.03657816e+00\n",
      "  6.36607698e+00 -2.14555491e+00  1.77949380e+00 -3.32739486e+00\n",
      " -7.11125230e+00 -6.67553423e+00  1.60763474e+00 -4.61485168e+00\n",
      "  2.72314481e+00  6.95960635e+00  2.34475465e+00 -5.06789947e+00\n",
      "  2.72314481e+00 -6.14428761e+00 -1.17862863e+01 -9.67735451e+00\n",
      " -2.75883363e+00 -9.50610072e-01  3.13173721e+01 -2.63214201e-01\n",
      "  2.63214205e-01]\n"
     ]
    }
   ],
   "source": [
    "print(regressor1.coef_)\n",
    "print(regressor2.coef_)"
   ]
  },
  {
   "cell_type": "code",
   "execution_count": 9,
   "id": "ea38e27e",
   "metadata": {},
   "outputs": [
    {
     "name": "stdout",
     "output_type": "stream",
     "text": [
      "11.005516549951277\n",
      "0.194037846851138\n",
      "1021.3202694882714\n",
      "0.6592011408543279\n"
     ]
    }
   ],
   "source": [
    "from sklearn.metrics import mean_squared_error,r2_score\n",
    "print(mean_squared_error(Y1_test,y1_pred))\n",
    "print(r2_score(Y1_test,y1_pred))\n",
    "print(mean_squared_error(Y2_test,y2_pred))\n",
    "print(r2_score(Y2_test,y2_pred))\n"
   ]
  },
  {
   "cell_type": "markdown",
   "id": "0f4c1a77",
   "metadata": {},
   "source": []
  }
 ],
 "metadata": {
  "kernelspec": {
   "display_name": "Python 3 (ipykernel)",
   "language": "python",
   "name": "python3"
  },
  "language_info": {
   "codemirror_mode": {
    "name": "ipython",
    "version": 3
   },
   "file_extension": ".py",
   "mimetype": "text/x-python",
   "name": "python",
   "nbconvert_exporter": "python",
   "pygments_lexer": "ipython3",
   "version": "3.11.0"
  }
 },
 "nbformat": 4,
 "nbformat_minor": 5
}
