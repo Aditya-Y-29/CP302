{
 "cells": [
  {
   "cell_type": "code",
   "execution_count": 1,
   "id": "30f270fc",
   "metadata": {},
   "outputs": [],
   "source": [
    "import numpy as np\n",
    "import pandas as pd\n",
    "import matplotlib.pyplot as plt\n",
    "import seaborn as sns\n",
    "%matplotlib inline"
   ]
  },
  {
   "cell_type": "code",
   "execution_count": 2,
   "id": "0b2177eb",
   "metadata": {},
   "outputs": [],
   "source": [
    "data1=pd.read_excel('Processed Data\\Intrinsic Data.xlsx', sheet_name=0, usecols=\"B:E,H:I\")\n",
    "data2=pd.read_excel('Processed Data\\Extrinsic Data.xlsx', sheet_name=0, usecols=\"B:P\")"
   ]
  },
  {
   "cell_type": "code",
   "execution_count": 3,
   "id": "ce764273",
   "metadata": {},
   "outputs": [],
   "source": [
    "from sklearn.preprocessing import OneHotEncoder\n",
    "encoder=OneHotEncoder()\n",
    "\n",
    "encoded_data1=pd.DataFrame(encoder.fit_transform(data1[['Breed']]).toarray())\n",
    "\n",
    "Y1_=data1['Milk Production/Day']\n",
    "data1=data1.drop(['Breed','Milk Production/Day'],axis=1)\n",
    "\n",
    "data1=data1.join(encoded_data1)\n",
    "data1=data1.join(Y1_)\n",
    "\n",
    "encoded_data2=pd.DataFrame(encoder.fit_transform(data2[['Month','District','Zone','Green \\nFodder','Dry\\n Fodder']]).toarray())\n",
    "Y2_=data2['Farm Milk Production per \\nDay']\n",
    "data2=data2.drop(['Month','District','Zone','Green \\nFodder','Dry\\n Fodder','Farm Milk Production per \\nDay'],axis=1)\n",
    "\n",
    "data2=data2.join(encoded_data2)\n",
    "data2=data2.join(Y2_)\n",
    "\n",
    "data2=data2.to_numpy()\n",
    "X2=data2[:,0:-1]\n",
    "Y2=data2[:,-1]"
   ]
  },
  {
   "cell_type": "code",
   "execution_count": 4,
   "id": "2d287031",
   "metadata": {},
   "outputs": [],
   "source": [
    "data1=data1.to_numpy()\n",
    "X1=data1[:,0:-1]\n",
    "Y1=data1[:,-1]"
   ]
  },
  {
   "cell_type": "code",
   "execution_count": 5,
   "id": "a53a9ba7",
   "metadata": {},
   "outputs": [],
   "source": [
    "Tdata1=pd.read_excel('TDataIn.xlsx', sheet_name=0, usecols=\"B:E,H:I\")\n",
    "Tdata2=pd.read_excel('TDataEx.xlsx', sheet_name=0, usecols=\"B:P\")\n",
    "\n",
    "from sklearn.preprocessing import OneHotEncoder\n",
    "encoder=OneHotEncoder()\n",
    "\n",
    "Tencoded_data1=pd.DataFrame(encoder.fit_transform(Tdata1[['Breed']]).toarray())\n",
    "\n",
    "TY1_=Tdata1['Milk Production/Day']\n",
    "Tdata1=Tdata1.drop(['Breed','Milk Production/Day'],axis=1)\n",
    "\n",
    "Tdata1=Tdata1.join(Tencoded_data1)\n",
    "Tdata1=Tdata1.join(TY1_)\n",
    "\n",
    "Tencoded_data2=pd.DataFrame(encoder.fit_transform(Tdata2[['Month','District','Zone','Green \\nFodder','Dry\\n Fodder']]).toarray())\n",
    "TY2_=Tdata2['Farm Milk Production per \\nDay']\n",
    "Tdata2=Tdata2.drop(['Month','District','Zone','Green \\nFodder','Dry\\n Fodder','Farm Milk Production per \\nDay'],axis=1)\n",
    "\n",
    "Tdata2=Tdata2.join(Tencoded_data2)\n",
    "Tdata2=Tdata2.join(TY2_)\n",
    "\n",
    "# print(Tdata1)\n",
    "# print(Tdata2)\n",
    "\n",
    "Tdata2=Tdata2.to_numpy()\n",
    "TX2=Tdata2[:,0:-1]\n",
    "TY2=Tdata2[:,-1]\n",
    "\n",
    "Tdata1=Tdata1.to_numpy()\n",
    "TX1=Tdata1[:,0:-1]\n",
    "TY1=Tdata1[:,-1]\n",
    "\n",
    "# print(TX1)\n",
    "# print(TX2)\n",
    "\n",
    "farmSize=[]\n",
    "for i in TX2:\n",
    "    farmSize.append(i[8])\n",
    "      \n",
    "    "
   ]
  },
  {
   "cell_type": "code",
   "execution_count": 6,
   "id": "3b85c3c7",
   "metadata": {},
   "outputs": [
    {
     "name": "stdout",
     "output_type": "stream",
     "text": [
      "[ 10.   11.   20.   47.    4.5  15.   23.  100.   18.   13.   20.   14.\n",
      "  16.    8.   20.   17.    9.    3. ]\n"
     ]
    }
   ],
   "source": [
    "from sklearn.model_selection import train_test_split\n",
    "\n",
    "X1_train, X1_test, Y1_train, Y1_test = train_test_split(X1, Y1, test_size = 0.01, random_state = 0)\n",
    "X2_train, X2_test, Y2_train, Y2_test = train_test_split(X2, Y2, test_size = 0.01, random_state = 0)\n",
    "\n",
    "X1_test=TX1\n",
    "Y1_test=TY1\n",
    "\n",
    "X2_test=X2[-18:]\n",
    "Y2_test=TY2\n",
    "\n",
    "print(Y2_test)\n",
    "\n",
    "from sklearn.linear_model import LinearRegression\n",
    "\n",
    "from sklearn.preprocessing import PolynomialFeatures \n",
    "from sklearn.metrics import mean_squared_error,r2_score\n",
    "# print(X2_test)\n",
    "\n",
    "\n",
    "# For Intrinsic.\n",
    "poly = PolynomialFeatures(degree=3, include_bias=True)\n",
    "x_train_trans = poly.fit_transform(X1_train)\n",
    "x_test_trans = poly.transform(X1_test)\n",
    "lr = LinearRegression()\n",
    "lr.fit(x_train_trans, Y1_train)\n",
    "y_pred = lr.predict(x_test_trans)\n",
    "# print(y_pred)\n",
    "\n",
    "# For Extrinsic.\n",
    "poly = PolynomialFeatures(degree=1, include_bias=True)\n",
    "x_train_trans2 = poly.fit_transform(X2_train)\n",
    "x_test_trans2 = poly.transform(X2_test)\n",
    "lr2 = LinearRegression()\n",
    "lr2.fit(x_train_trans2, Y2_train)\n",
    "y_pred2 = lr2.predict(x_test_trans2)\n",
    "\n",
    "# print(y_pred2)\n",
    "\n",
    "# print(r2_score(Y2_test, y_pred2))\n"
   ]
  },
  {
   "cell_type": "code",
   "execution_count": 7,
   "id": "36586461",
   "metadata": {},
   "outputs": [
    {
     "name": "stdout",
     "output_type": "stream",
     "text": [
      "4.018775337055265\n",
      "92\n"
     ]
    }
   ],
   "source": [
    "weight=-1\n",
    "error=6000000\n",
    "\n",
    "from sklearn.metrics import mean_squared_error,r2_score\n",
    "\n",
    "for i in range(0,101):\n",
    "    wIn=i\n",
    "    wEx=100-i\n",
    "    lower=0\n",
    "    y_predictW=[]\n",
    "    for idx in range(len(farmSize)):\n",
    "        upper=lower+int(farmSize[idx])\n",
    "        sum=0\n",
    "        for farmIdx in range(lower,upper):\n",
    "            sum+=y_pred[farmIdx]\n",
    "\n",
    "        weightedAvg=(sum*wIn+y_pred2[idx]*wEx)/100\n",
    "        \n",
    "        for farmIdx in range(lower,upper):\n",
    "            y_predictW.append(y_pred[farmIdx]*(weightedAvg/sum))\n",
    "        lower=upper \n",
    "    \n",
    "    if error > mean_squared_error(y_predictW,Y1_test):\n",
    "        error = mean_squared_error(y_predictW,Y1_test)\n",
    "        weight=i;\n",
    "    \n",
    "print(error)\n",
    "print(weight)"
   ]
  }
 ],
 "metadata": {
  "kernelspec": {
   "display_name": "Python 3 (ipykernel)",
   "language": "python",
   "name": "python3"
  },
  "language_info": {
   "codemirror_mode": {
    "name": "ipython",
    "version": 3
   },
   "file_extension": ".py",
   "mimetype": "text/x-python",
   "name": "python",
   "nbconvert_exporter": "python",
   "pygments_lexer": "ipython3",
   "version": "3.11.0"
  }
 },
 "nbformat": 4,
 "nbformat_minor": 5
}
