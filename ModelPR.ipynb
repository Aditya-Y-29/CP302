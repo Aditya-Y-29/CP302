{
 "cells": [
  {
   "cell_type": "code",
   "execution_count": 53,
   "id": "5993093c",
   "metadata": {},
   "outputs": [],
   "source": [
    "import numpy as np\n",
    "import pandas as pd\n",
    "import matplotlib.pyplot as plt\n",
    "import seaborn as sns\n",
    "%matplotlib inline"
   ]
  },
  {
   "cell_type": "code",
   "execution_count": 54,
   "id": "bd9c8823",
   "metadata": {},
   "outputs": [],
   "source": [
    "data1=pd.read_excel('Processed Data/Intrinsic Data.xlsx', sheet_name=0, usecols=\"B:E,H:I\")\n",
    "data2=pd.read_excel('Processed Data/Extrinsic Data.xlsx', sheet_name=0, usecols=\"B:P\")"
   ]
  },
  {
   "cell_type": "code",
   "execution_count": 55,
   "id": "c2c184b6",
   "metadata": {},
   "outputs": [],
   "source": [
    "from sklearn.preprocessing import OneHotEncoder\n",
    "encoder=OneHotEncoder()\n",
    "\n",
    "encoded_data1=pd.DataFrame(encoder.fit_transform(data1[['Breed']]).toarray())\n",
    "\n",
    "Y1_=data1['Milk Production/Day']\n",
    "data1=data1.drop(['Breed','Milk Production/Day'],axis=1)\n",
    "\n",
    "data1=data1.join(encoded_data1)\n",
    "data1=data1.join(Y1_)"
   ]
  },
  {
   "cell_type": "code",
   "execution_count": 56,
   "id": "20a4228a",
   "metadata": {},
   "outputs": [],
   "source": [
    "data1=data1.to_numpy()\n",
    "X1=data1[:,0:-1]\n",
    "Y1=data1[:,-1]"
   ]
  },
  {
   "cell_type": "code",
   "execution_count": 57,
   "id": "98cdb9cf",
   "metadata": {},
   "outputs": [
    {
     "name": "stdout",
     "output_type": "stream",
     "text": [
      "For degree 1:\n",
      "0.20997952122855001\n",
      "13.546467712716714\n"
     ]
    }
   ],
   "source": [
    "# For intrinsic\n",
    "from sklearn.model_selection import train_test_split\n",
    "from sklearn.preprocessing import PolynomialFeatures \n",
    "from sklearn.metrics import mean_squared_error,r2_score\n",
    "\n",
    "X1_train, X1_test, Y1_train, Y1_test = train_test_split(X1, Y1, test_size = 0.2, random_state = 0)\n",
    "\n",
    "#applying polynomial regression degree 1\n",
    "poly = PolynomialFeatures(degree=1, include_bias=True)\n",
    "x_train_trans = poly.fit_transform(X1_train)\n",
    "x_test_trans = poly.transform(X1_test)\n",
    "\n",
    "#include bias parameter\n",
    "lr = LinearRegression()\n",
    "lr.fit(x_train_trans, Y1_train)\n",
    "y_pred = lr.predict(x_test_trans)\n",
    "\n",
    "print(\"For degree 1:\")\n",
    "print(r2_score(Y1_test, y_pred))\n",
    "print(mean_squared_error(Y1_test, y_pred))"
   ]
  },
  {
   "cell_type": "code",
   "execution_count": 58,
   "id": "8fa1aeef-34cb-4a42-9e2c-4f22475f787c",
   "metadata": {},
   "outputs": [
    {
     "name": "stdout",
     "output_type": "stream",
     "text": [
      "For degree 2:\n",
      "0.21396374485029057\n",
      "13.478150298038955\n",
      "For degree 3:\n",
      "0.2611351923615387\n",
      "12.669302289862072\n",
      "For degree 4:\n",
      "-21.848610533797554\n",
      "391.78473621070526\n"
     ]
    }
   ],
   "source": [
    "#applying polynomial regression degree 2\n",
    "poly = PolynomialFeatures(degree=2, include_bias=True)\n",
    "x_train_trans = poly.fit_transform(X1_train)\n",
    "x_test_trans = poly.transform(X1_test)\n",
    "\n",
    "#include bias parameter\n",
    "lr = LinearRegression()\n",
    "lr.fit(x_train_trans, Y1_train)\n",
    "y_pred = lr.predict(x_test_trans)\n",
    "\n",
    "print(\"For degree 2:\")\n",
    "print(r2_score(Y1_test, y_pred))\n",
    "print(mean_squared_error(Y1_test, y_pred))\n",
    "\n",
    "#applying polynomial regression degree 3\n",
    "poly = PolynomialFeatures(degree=3, include_bias=True)\n",
    "x_train_trans = poly.fit_transform(X1_train)\n",
    "x_test_trans = poly.transform(X1_test)\n",
    "\n",
    "#include bias parameter\n",
    "lr = LinearRegression()\n",
    "lr.fit(x_train_trans, Y1_train)\n",
    "y_pred = lr.predict(x_test_trans)\n",
    "\n",
    "print(\"For degree 3:\")\n",
    "print(r2_score(Y1_test, y_pred))\n",
    "print(mean_squared_error(Y1_test, y_pred))\n",
    "\n",
    "#applying polynomial regression degree 4\n",
    "poly = PolynomialFeatures(degree=4, include_bias=True)\n",
    "x_train_trans = poly.fit_transform(X1_train)\n",
    "x_test_trans = poly.transform(X1_test)\n",
    "\n",
    "#include bias parameter\n",
    "lr = LinearRegression()\n",
    "lr.fit(x_train_trans, Y1_train)\n",
    "y_pred = lr.predict(x_test_trans)\n",
    "\n",
    "print(\"For degree 4:\")\n",
    "print(r2_score(Y1_test, y_pred))\n",
    "print(mean_squared_error(Y1_test, y_pred))"
   ]
  },
  {
   "cell_type": "code",
   "execution_count": 59,
   "id": "d38788f4-2849-424b-b8ad-b0d4c68dd9a6",
   "metadata": {},
   "outputs": [],
   "source": [
    "from sklearn.preprocessing import OneHotEncoder\n",
    "encoder=OneHotEncoder()\n",
    "\n",
    "encoded_data2=pd.DataFrame(encoder.fit_transform(data2[['Month','District','Zone','Green \\nFodder','Dry\\n Fodder']]).toarray())\n",
    "\n",
    "Y2_=data2['Farm Milk Production per \\nDay']\n",
    "data2=data2.drop(['Month','District','Zone','Green \\nFodder','Dry\\n Fodder','Farm Milk Production per \\nDay'],axis=1)\n",
    "\n",
    "data2=data2.join(encoded_data2)\n",
    "data2=data2.join(Y2_)"
   ]
  },
  {
   "cell_type": "code",
   "execution_count": 60,
   "id": "9bdd63fa-938a-4e19-ad41-f22c093ea4bc",
   "metadata": {},
   "outputs": [],
   "source": [
    "data2=data2.to_numpy()\n",
    "X2=data2[:,0:-1]\n",
    "Y2=data2[:,-1]"
   ]
  },
  {
   "cell_type": "code",
   "execution_count": null,
   "id": "610edf2f-d1f7-4b54-bff8-e38533fdc306",
   "metadata": {},
   "outputs": [
    {
     "name": "stdout",
     "output_type": "stream",
     "text": [
      "Extrinsic------------\n",
      "For degree 1:\n",
      "0.690465136968663\n",
      "973.7693933808064\n",
      "For degree 2:\n",
      "-100775694904.18619\n",
      "317031452723364.25\n"
     ]
    }
   ],
   "source": [
    "#For extrinsic\n",
    "from sklearn.model_selection import train_test_split\n",
    "from sklearn.preprocessing import PolynomialFeatures \n",
    "from sklearn.metrics import mean_squared_error,r2_score\n",
    "\n",
    "X1_train, X1_test, Y1_train, Y1_test = train_test_split(X2, Y2, test_size = 0.2, random_state = 0)\n",
    "\n",
    "print(\"Extrinsic------------\")\n",
    "\n",
    "#applying polynomial regression degree 1\n",
    "poly = PolynomialFeatures(degree=1, include_bias=True)\n",
    "x_train_trans = poly.fit_transform(X1_train)\n",
    "x_test_trans = poly.transform(X1_test)\n",
    "\n",
    "#include bias parameter\n",
    "lr = LinearRegression()\n",
    "lr.fit(x_train_trans, Y1_train)\n",
    "y_pred = lr.predict(x_test_trans)\n",
    "\n",
    "print(\"For degree 1:\")\n",
    "print(r2_score(Y1_test, y_pred))\n",
    "print(mean_squared_error(Y1_test, y_pred))\n",
    "\n",
    "#applying polynomial regression degree 2\n",
    "poly = PolynomialFeatures(degree=2, include_bias=True)\n",
    "x_train_trans = poly.fit_transform(X1_train)\n",
    "x_test_trans = poly.transform(X1_test)\n",
    "\n",
    "#include bias parameter\n",
    "lr = LinearRegression()\n",
    "lr.fit(x_train_trans, Y1_train)\n",
    "y_pred = lr.predict(x_test_trans)\n",
    "\n",
    "print(\"For degree 2:\")\n",
    "print(r2_score(Y1_test, y_pred))\n",
    "print(mean_squared_error(Y1_test, y_pred))"
   ]
  }
 ],
 "metadata": {
  "kernelspec": {
   "display_name": "Python 3 (ipykernel)",
   "language": "python",
   "name": "python3"
  },
  "language_info": {
   "codemirror_mode": {
    "name": "ipython",
    "version": 3
   },
   "file_extension": ".py",
   "mimetype": "text/x-python",
   "name": "python",
   "nbconvert_exporter": "python",
   "pygments_lexer": "ipython3",
   "version": "3.10.12"
  }
 },
 "nbformat": 4,
 "nbformat_minor": 5
}
